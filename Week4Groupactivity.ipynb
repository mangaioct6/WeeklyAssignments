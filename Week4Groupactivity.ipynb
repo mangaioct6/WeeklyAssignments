{
 "cells": [
  {
   "cell_type": "markdown",
   "id": "be27579a",
   "metadata": {},
   "source": [
    "Week04 GroupActivity"
   ]
  },
  {
   "cell_type": "code",
   "execution_count": null,
   "id": "808709bb",
   "metadata": {},
   "outputs": [],
   "source": [
    "#1.Import the Belize_Airbnb_listings csv.Create a new dataframe that takes the original dataset and groups the data by\n",
    "#neighborhood and finds the average price, number of reviews, and availability_365. In short, you’re looking for the \n",
    "#average price, number of reviews, and availability per neighborhood."
   ]
  },
  {
   "cell_type": "code",
   "execution_count": 1,
   "id": "1bbba51f",
   "metadata": {},
   "outputs": [],
   "source": [
    "import pandas as pd\n",
    "belize_listings_path = \"belize_airbnb_listings.csv\"\n",
    "belize_df = pd.read_csv(belize_listings_path)"
   ]
  },
  {
   "cell_type": "code",
   "execution_count": 32,
   "id": "84c6a4d8",
   "metadata": {},
   "outputs": [
    {
     "data": {
      "text/html": [
       "<div>\n",
       "<style scoped>\n",
       "    .dataframe tbody tr th:only-of-type {\n",
       "        vertical-align: middle;\n",
       "    }\n",
       "\n",
       "    .dataframe tbody tr th {\n",
       "        vertical-align: top;\n",
       "    }\n",
       "\n",
       "    .dataframe thead th {\n",
       "        text-align: right;\n",
       "    }\n",
       "</style>\n",
       "<table border=\"1\" class=\"dataframe\">\n",
       "  <thead>\n",
       "    <tr style=\"text-align: right;\">\n",
       "      <th></th>\n",
       "      <th>id</th>\n",
       "      <th>name</th>\n",
       "      <th>host_id</th>\n",
       "      <th>host_name</th>\n",
       "      <th>neighbourhood_group</th>\n",
       "      <th>neighbourhood</th>\n",
       "      <th>latitude</th>\n",
       "      <th>longitude</th>\n",
       "      <th>room_type</th>\n",
       "      <th>price</th>\n",
       "      <th>minimum_nights</th>\n",
       "      <th>number_of_reviews</th>\n",
       "      <th>last_review</th>\n",
       "      <th>reviews_per_month</th>\n",
       "      <th>calculated_host_listings_count</th>\n",
       "      <th>availability_365</th>\n",
       "    </tr>\n",
       "  </thead>\n",
       "  <tbody>\n",
       "    <tr>\n",
       "      <th>0</th>\n",
       "      <td>36666</td>\n",
       "      <td>Mo's Cozy Casa w/ veranda &amp; access to dock</td>\n",
       "      <td>157752</td>\n",
       "      <td>Monique</td>\n",
       "      <td>Belize</td>\n",
       "      <td>Belize Islands</td>\n",
       "      <td>17.74786</td>\n",
       "      <td>-88.02398</td>\n",
       "      <td>Entire home/apt</td>\n",
       "      <td>141</td>\n",
       "      <td>3</td>\n",
       "      <td>250</td>\n",
       "      <td>2/23/2021</td>\n",
       "      <td>2.00</td>\n",
       "      <td>5</td>\n",
       "      <td>225</td>\n",
       "    </tr>\n",
       "    <tr>\n",
       "      <th>1</th>\n",
       "      <td>36690</td>\n",
       "      <td>Mo's Cozy Cabana w/ comfy veranda &amp; access to ...</td>\n",
       "      <td>157752</td>\n",
       "      <td>Monique</td>\n",
       "      <td>Belize</td>\n",
       "      <td>Belize Islands</td>\n",
       "      <td>17.74832</td>\n",
       "      <td>-88.02474</td>\n",
       "      <td>Entire home/apt</td>\n",
       "      <td>71</td>\n",
       "      <td>3</td>\n",
       "      <td>316</td>\n",
       "      <td>2/19/2021</td>\n",
       "      <td>2.46</td>\n",
       "      <td>5</td>\n",
       "      <td>164</td>\n",
       "    </tr>\n",
       "    <tr>\n",
       "      <th>2</th>\n",
       "      <td>108932</td>\n",
       "      <td>Purple House eco solar  w/ ocean &amp; wildlife views</td>\n",
       "      <td>563377</td>\n",
       "      <td>Michael</td>\n",
       "      <td>Belize</td>\n",
       "      <td>Belize Islands</td>\n",
       "      <td>17.73221</td>\n",
       "      <td>-88.03824</td>\n",
       "      <td>Entire home/apt</td>\n",
       "      <td>191</td>\n",
       "      <td>2</td>\n",
       "      <td>30</td>\n",
       "      <td>3/14/2020</td>\n",
       "      <td>0.78</td>\n",
       "      <td>1</td>\n",
       "      <td>364</td>\n",
       "    </tr>\n",
       "    <tr>\n",
       "      <th>3</th>\n",
       "      <td>110483</td>\n",
       "      <td>Michelo's fuchsia suite</td>\n",
       "      <td>567809</td>\n",
       "      <td>Michel</td>\n",
       "      <td>Stann Creek</td>\n",
       "      <td>Stann Creek Mainland</td>\n",
       "      <td>16.52114</td>\n",
       "      <td>-88.36926</td>\n",
       "      <td>Hotel room</td>\n",
       "      <td>121</td>\n",
       "      <td>1</td>\n",
       "      <td>27</td>\n",
       "      <td>2/24/2020</td>\n",
       "      <td>0.29</td>\n",
       "      <td>3</td>\n",
       "      <td>331</td>\n",
       "    </tr>\n",
       "  </tbody>\n",
       "</table>\n",
       "</div>"
      ],
      "text/plain": [
       "       id                                               name  host_id  \\\n",
       "0   36666         Mo's Cozy Casa w/ veranda & access to dock   157752   \n",
       "1   36690  Mo's Cozy Cabana w/ comfy veranda & access to ...   157752   \n",
       "2  108932  Purple House eco solar  w/ ocean & wildlife views   563377   \n",
       "3  110483                            Michelo's fuchsia suite   567809   \n",
       "\n",
       "  host_name neighbourhood_group         neighbourhood  latitude  longitude  \\\n",
       "0   Monique              Belize        Belize Islands  17.74786  -88.02398   \n",
       "1   Monique              Belize        Belize Islands  17.74832  -88.02474   \n",
       "2   Michael              Belize        Belize Islands  17.73221  -88.03824   \n",
       "3    Michel         Stann Creek  Stann Creek Mainland  16.52114  -88.36926   \n",
       "\n",
       "         room_type  price  minimum_nights  number_of_reviews last_review  \\\n",
       "0  Entire home/apt    141               3                250   2/23/2021   \n",
       "1  Entire home/apt     71               3                316   2/19/2021   \n",
       "2  Entire home/apt    191               2                 30   3/14/2020   \n",
       "3       Hotel room    121               1                 27   2/24/2020   \n",
       "\n",
       "   reviews_per_month  calculated_host_listings_count  availability_365  \n",
       "0               2.00                               5               225  \n",
       "1               2.46                               5               164  \n",
       "2               0.78                               1               364  \n",
       "3               0.29                               3               331  "
      ]
     },
     "execution_count": 32,
     "metadata": {},
     "output_type": "execute_result"
    }
   ],
   "source": [
    "belize_df.head(4)"
   ]
  },
  {
   "cell_type": "code",
   "execution_count": 3,
   "id": "ce9afff6",
   "metadata": {},
   "outputs": [
    {
     "name": "stderr",
     "output_type": "stream",
     "text": [
      "C:\\Users\\Codergirl\\AppData\\Local\\Programs\\Python\\Python37\\lib\\site-packages\\ipykernel_launcher.py:2: FutureWarning: Indexing with multiple keys (implicitly converted to a tuple of keys) will be deprecated, use a list instead.\n",
      "  \n"
     ]
    },
    {
     "data": {
      "text/html": [
       "<div>\n",
       "<style scoped>\n",
       "    .dataframe tbody tr th:only-of-type {\n",
       "        vertical-align: middle;\n",
       "    }\n",
       "\n",
       "    .dataframe tbody tr th {\n",
       "        vertical-align: top;\n",
       "    }\n",
       "\n",
       "    .dataframe thead th {\n",
       "        text-align: right;\n",
       "    }\n",
       "</style>\n",
       "<table border=\"1\" class=\"dataframe\">\n",
       "  <thead>\n",
       "    <tr style=\"text-align: right;\">\n",
       "      <th></th>\n",
       "      <th>price</th>\n",
       "      <th>number_of_reviews</th>\n",
       "      <th>availability_365</th>\n",
       "    </tr>\n",
       "    <tr>\n",
       "      <th>neighbourhood</th>\n",
       "      <th></th>\n",
       "      <th></th>\n",
       "      <th></th>\n",
       "    </tr>\n",
       "  </thead>\n",
       "  <tbody>\n",
       "    <tr>\n",
       "      <th>Belize Islands</th>\n",
       "      <td>399.442824</td>\n",
       "      <td>17.647736</td>\n",
       "      <td>295.970837</td>\n",
       "    </tr>\n",
       "    <tr>\n",
       "      <th>Belize Mainland</th>\n",
       "      <td>288.273063</td>\n",
       "      <td>15.147601</td>\n",
       "      <td>261.014760</td>\n",
       "    </tr>\n",
       "    <tr>\n",
       "      <th>Cayo</th>\n",
       "      <td>205.847525</td>\n",
       "      <td>14.566337</td>\n",
       "      <td>259.249505</td>\n",
       "    </tr>\n",
       "    <tr>\n",
       "      <th>Corozal</th>\n",
       "      <td>156.553846</td>\n",
       "      <td>7.569231</td>\n",
       "      <td>278.676923</td>\n",
       "    </tr>\n",
       "    <tr>\n",
       "      <th>Orange Walk</th>\n",
       "      <td>122.035714</td>\n",
       "      <td>14.821429</td>\n",
       "      <td>261.928571</td>\n",
       "    </tr>\n",
       "    <tr>\n",
       "      <th>Stann Creek Islands</th>\n",
       "      <td>1136.166667</td>\n",
       "      <td>5.750000</td>\n",
       "      <td>248.083333</td>\n",
       "    </tr>\n",
       "    <tr>\n",
       "      <th>Stann Creek Mainland</th>\n",
       "      <td>456.994690</td>\n",
       "      <td>8.470796</td>\n",
       "      <td>277.872566</td>\n",
       "    </tr>\n",
       "    <tr>\n",
       "      <th>Toledo Mainland</th>\n",
       "      <td>222.978723</td>\n",
       "      <td>4.127660</td>\n",
       "      <td>234.744681</td>\n",
       "    </tr>\n",
       "  </tbody>\n",
       "</table>\n",
       "</div>"
      ],
      "text/plain": [
       "                            price  number_of_reviews  availability_365\n",
       "neighbourhood                                                         \n",
       "Belize Islands         399.442824          17.647736        295.970837\n",
       "Belize Mainland        288.273063          15.147601        261.014760\n",
       "Cayo                   205.847525          14.566337        259.249505\n",
       "Corozal                156.553846           7.569231        278.676923\n",
       "Orange Walk            122.035714          14.821429        261.928571\n",
       "Stann Creek Islands   1136.166667           5.750000        248.083333\n",
       "Stann Creek Mainland   456.994690           8.470796        277.872566\n",
       "Toledo Mainland        222.978723           4.127660        234.744681"
      ]
     },
     "execution_count": 3,
     "metadata": {},
     "output_type": "execute_result"
    }
   ],
   "source": [
    "groupby=belize_df.groupby(\"neighbourhood\")\n",
    "groupby['price','number_of_reviews','availability_365'].mean()"
   ]
  },
  {
   "cell_type": "code",
   "execution_count": 4,
   "id": "8692aaa4",
   "metadata": {},
   "outputs": [
    {
     "data": {
      "text/plain": [
       "neighbourhood\n",
       "Belize Islands           399.442824\n",
       "Belize Mainland          288.273063\n",
       "Cayo                     205.847525\n",
       "Corozal                  156.553846\n",
       "Orange Walk              122.035714\n",
       "Stann Creek Islands     1136.166667\n",
       "Stann Creek Mainland     456.994690\n",
       "Toledo Mainland          222.978723\n",
       "Name: price, dtype: float64"
      ]
     },
     "execution_count": 4,
     "metadata": {},
     "output_type": "execute_result"
    }
   ],
   "source": [
    "groupby['price'].mean()"
   ]
  },
  {
   "cell_type": "code",
   "execution_count": 5,
   "id": "45e83ede",
   "metadata": {},
   "outputs": [
    {
     "data": {
      "text/plain": [
       "neighbourhood\n",
       "Belize Islands          17.647736\n",
       "Belize Mainland         15.147601\n",
       "Cayo                    14.566337\n",
       "Corozal                  7.569231\n",
       "Orange Walk             14.821429\n",
       "Stann Creek Islands      5.750000\n",
       "Stann Creek Mainland     8.470796\n",
       "Toledo Mainland          4.127660\n",
       "Name: number_of_reviews, dtype: float64"
      ]
     },
     "execution_count": 5,
     "metadata": {},
     "output_type": "execute_result"
    }
   ],
   "source": [
    "groupby['number_of_reviews'].mean()"
   ]
  },
  {
   "cell_type": "code",
   "execution_count": 6,
   "id": "505743a2",
   "metadata": {},
   "outputs": [
    {
     "data": {
      "text/plain": [
       "neighbourhood\n",
       "Belize Islands          295.970837\n",
       "Belize Mainland         261.014760\n",
       "Cayo                    259.249505\n",
       "Corozal                 278.676923\n",
       "Orange Walk             261.928571\n",
       "Stann Creek Islands     248.083333\n",
       "Stann Creek Mainland    277.872566\n",
       "Toledo Mainland         234.744681\n",
       "Name: availability_365, dtype: float64"
      ]
     },
     "execution_count": 6,
     "metadata": {},
     "output_type": "execute_result"
    }
   ],
   "source": [
    "groupby['availability_365'].mean()"
   ]
  },
  {
   "cell_type": "code",
   "execution_count": null,
   "id": "751e2dad",
   "metadata": {},
   "outputs": [],
   "source": []
  },
  {
   "cell_type": "code",
   "execution_count": 33,
   "id": "2a203f2c",
   "metadata": {},
   "outputs": [
    {
     "name": "stdout",
     "output_type": "stream",
     "text": [
      "Squared list:  [4, 8, 12, 16, 20, 24, 28]\n"
     ]
    }
   ],
   "source": [
    "#2.Take the following list and create a new list from the square of each value.\n",
    "og_list=[2, 4, 6, 8, 10, 12, 14]\n",
    "square=[x*2 for x in og_list]\n",
    "print(\"Squared list: \", square)"
   ]
  },
  {
   "cell_type": "code",
   "execution_count": 35,
   "id": "0e6431c0",
   "metadata": {},
   "outputs": [
    {
     "name": "stdout",
     "output_type": "stream",
     "text": [
      "Twobythree_list:  [1.3333333333333333, 2.6666666666666665, 4.0, 5.333333333333333, 6.666666666666667, 8.0, 9.333333333333334]\n"
     ]
    }
   ],
   "source": [
    "#3.Take the same list from the previous question and create a new list but where each value is 2/3\n",
    "twobythree=[x*2/3 for x in og_list]\n",
    "print(\"Twobythree_list: \", twobythree)"
   ]
  },
  {
   "cell_type": "code",
   "execution_count": 10,
   "id": "135eeac0",
   "metadata": {},
   "outputs": [
    {
     "data": {
      "text/plain": [
       "{'apples': 1500,\n",
       " 'cranberries': 2000,\n",
       " 'pears': 2500,\n",
       " 'cherries': 1600,\n",
       " 'plums': 2400,\n",
       " 'peaches': 13600,\n",
       " 'oranges': 7}"
      ]
     },
     "execution_count": 10,
     "metadata": {},
     "output_type": "execute_result"
    }
   ],
   "source": [
    "#4.Write a list comprehension or function to lowercase all the keys in the below dictionary.\n",
    "#The data represents how many pounds of each fruit a canning company is ordering.\n",
    "#Why did you choose the mechanism you did to lowercase the keys?\n",
    "\n",
    "dict={\"Apples\": 1500, \"Cranberries\": 2000, \"Pears\": 2500, \"Cherries\": 1600, \"Plums\": 2400,\n",
    "\"Peaches\": 13600, \"Oranges\": 7}\n",
    "{(k.lower()):v for k,v in dict.items()}"
   ]
  },
  {
   "cell_type": "code",
   "execution_count": null,
   "id": "659cdcd9",
   "metadata": {},
   "outputs": [],
   "source": [
    "# I chose list comprehension method instaed of function to lowercase the keys. I used for loop to iterate through the\n",
    "#dictionary. since wehave to change lowercase for key, i used k.lower(), .items() method helps to print both key and value \n",
    "#pairs in dictionary."
   ]
  }
 ],
 "metadata": {
  "kernelspec": {
   "display_name": "Python 3 (ipykernel)",
   "language": "python",
   "name": "python3"
  },
  "language_info": {
   "codemirror_mode": {
    "name": "ipython",
    "version": 3
   },
   "file_extension": ".py",
   "mimetype": "text/x-python",
   "name": "python",
   "nbconvert_exporter": "python",
   "pygments_lexer": "ipython3",
   "version": "3.7.4"
  }
 },
 "nbformat": 4,
 "nbformat_minor": 5
}
