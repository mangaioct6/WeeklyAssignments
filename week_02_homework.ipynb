{
 "cells": [
  {
   "cell_type": "markdown",
   "metadata": {},
   "source": [
    "# MangaiHW Week 02\n",
    "#### Loops, Functions and Classes\n",
    "1. Do this homework **in order**. \n",
    "2. Be sure to have a solid understanding of Functions before working with Classes. \n",
    "\n",
    "\n",
    "1. Iterate through `integers_list` and `print` values that are multiples of 7."
   ]
  },
  {
   "cell_type": "code",
   "execution_count": 1,
   "metadata": {},
   "outputs": [
    {
     "name": "stdout",
     "output_type": "stream",
     "text": [
      "56\n",
      "161\n",
      "707\n",
      "483\n",
      "602\n",
      "798\n",
      "147\n",
      "924\n"
     ]
    }
   ],
   "source": [
    "import random\n",
    "integers_list = [random.randint(0,1000) for i in range(50)]\n",
    "for i in integers_list:\n",
    "    if i%7==0: # checking whether its divisible by 7 \n",
    "        print(i) # printing the multiples of 7"
   ]
  },
  {
   "cell_type": "markdown",
   "metadata": {},
   "source": [
    "-2. Create `list` of 5 colors as `strings` which are all lowercase. \n",
    "Iterate through the `list` and capitalize each color. \n",
    "You should modify the `list` in place. "
   ]
  },
  {
   "cell_type": "code",
   "execution_count": 1,
   "metadata": {},
   "outputs": [
    {
     "name": "stdout",
     "output_type": "stream",
     "text": [
      "['Red', 'Blue', 'Green', 'Purple', 'Black']\n"
     ]
    }
   ],
   "source": [
    "color_list=['red','blue','green','purple','black'] # creating a color list\n",
    "for i in range (len(color_list)): # iterating through the loop\n",
    "    color_list[i]=color_list[i].capitalize() #capitalizing each color \n",
    "print(color_list)"
   ]
  },
  {
   "cell_type": "markdown",
   "metadata": {},
   "source": [
    "3. Loop through the string and eliminate all the asterisks."
   ]
  },
  {
   "cell_type": "code",
   "execution_count": 32,
   "metadata": {},
   "outputs": [
    {
     "name": "stdout",
     "output_type": "stream",
     "text": [
      "My computer has gone crazy and added extra symbols.\n"
     ]
    }
   ],
   "source": [
    "asterisk = 'My *compu*ter has go*ne craz***y an*d add*ed extra *symbols.*'\n",
    "asterisk1=\"\"\n",
    "#Looping through character by character , and printing it in a new variable only if the character is not equal to *\n",
    "for i in asterisk: \n",
    "    if i!='*':\n",
    "        asterisk1+=i\n",
    "print(asterisk1) "
   ]
  },
  {
   "cell_type": "markdown",
   "metadata": {},
   "source": [
    "4. Write a `while` loop that increments `counter` until it reaches 7."
   ]
  },
  {
   "cell_type": "code",
   "execution_count": 10,
   "metadata": {},
   "outputs": [
    {
     "name": "stdout",
     "output_type": "stream",
     "text": [
      "0\n",
      "1\n",
      "2\n",
      "3\n",
      "4\n",
      "5\n",
      "6\n",
      "7\n"
     ]
    }
   ],
   "source": [
    "counter = 0\n",
    "while counter<=7:\n",
    "    print(counter)\n",
    "    counter+=1"
   ]
  },
  {
   "cell_type": "markdown",
   "metadata": {},
   "source": [
    "5. Loop over `double_trouble` and eliminate any 'mosquito'."
   ]
  },
  {
   "cell_type": "code",
   "execution_count": 27,
   "metadata": {
    "scrolled": true
   },
   "outputs": [
    {
     "name": "stdout",
     "output_type": "stream",
     "text": [
      "['cat', 'dog', ['mouse', 'bat'], ['elephant', 'dog', 'whale', 'lion', 32], 'bird', []]\n"
     ]
    }
   ],
   "source": [
    "double_trouble = ['cat', 'dog', ['mouse','mosquito','bat','mosquito'],['elephant','dog','whale','lion',32,'mosquito'],'bird',[],'mosquito']\n",
    "rem_mosquito=[]\n",
    "temp_list=[]\n",
    "for i in double_trouble:\n",
    "    if type(i)==list: #checking if each element is a list or not, inorder to go loop over into a list\n",
    "        for j in i:\n",
    "            if j!=\"mosquito\":\n",
    "                temp_list.append(j)\n",
    "        rem_mosquito.append(temp_list)\n",
    "        temp_list=[]\n",
    "        \n",
    "    else:\n",
    "        if i!=\"mosquito\":\n",
    "            rem_mosquito.append(i)\n",
    "print(rem_mosquito)  \n"
   ]
  },
  {
   "cell_type": "markdown",
   "metadata": {},
   "source": [
    "6. Loop through the dictionary of phone numbers and correct the parentheses. "
   ]
  },
  {
   "cell_type": "code",
   "execution_count": 106,
   "metadata": {},
   "outputs": [
    {
     "name": "stdout",
     "output_type": "stream",
     "text": [
      "Jill\n",
      "1-(555)-567-8910\n",
      "Jen\n",
      "1-(555)-567-8910\n",
      "Jan\n",
      "1-(555)-567-8910\n",
      "Jane\n",
      "1-(555)-567-8910\n",
      "Jerri\n",
      "1-(555)-567-8910\n"
     ]
    }
   ],
   "source": [
    "phone_numbers = {'Jill':'1-)555(-567-8910',\n",
    "                'Jen':'1-)555(-567-8910',\n",
    "                'Jan':'1-)555(-567-8910',\n",
    "                'Jane':'1-)555(-567-8910',\n",
    "                'Jerri':'1-)555(-567-8910'}\n",
    "for key in phone_numbers:\n",
    "    print(key)\n",
    "    print(phone_numbers[key].replace(')555(','(555)'))"
   ]
  },
  {
   "cell_type": "code",
   "execution_count": null,
   "metadata": {},
   "outputs": [],
   "source": []
  },
  {
   "cell_type": "markdown",
   "metadata": {},
   "source": [
    "7. Create a function that takes in two numbers.\n",
    "\n",
    "If the numbers are both even add them and `return` the result.\n",
    "\n",
    "If the numbers are odd, subtract the second number from the first and `return` the result.\n",
    "\n",
    "(Assume you'll always get integers)"
   ]
  },
  {
   "cell_type": "code",
   "execution_count": 108,
   "metadata": {},
   "outputs": [
    {
     "name": "stdout",
     "output_type": "stream",
     "text": [
      "Enter number 1: 5\n",
      "Enter number 2: 3\n",
      "Subtraction:  -2\n"
     ]
    }
   ],
   "source": [
    "def calc(x,y):\n",
    "    if x%2==0 and y%2==0:\n",
    "        add=x+y\n",
    "        print(\"Addition: \", add)\n",
    "    else:\n",
    "        sub=y-x\n",
    "        print(\"Subtraction: \",sub)\n",
    "        \n",
    "n1=int(input(\"Enter number 1: \"))\n",
    "n2=int(input(\"Enter number 2: \"))\n",
    "calc(n1,n2)\n",
    "    "
   ]
  },
  {
   "cell_type": "markdown",
   "metadata": {},
   "source": [
    "8. Create a function that takes in a `string` and removes all non-alphanumeric characters."
   ]
  },
  {
   "cell_type": "code",
   "execution_count": 27,
   "metadata": {},
   "outputs": [
    {
     "data": {
      "text/plain": [
       "'thisstringhassomeweirdvalues02'"
      ]
     },
     "execution_count": 27,
     "metadata": {},
     "output_type": "execute_result"
    }
   ],
   "source": [
    "def character(x):\n",
    "    import re\n",
    "    s=re.sub(r'\\W+','',x) #re.sub is used to replace substrings to string. \n",
    "    return s        #'\\W+' denotes NON ALPHA NUMERIC characters\n",
    "input1=\"this string has %^&! some weird values02\"\n",
    "character(input1)"
   ]
  },
  {
   "cell_type": "code",
   "execution_count": 1,
   "metadata": {},
   "outputs": [
    {
     "name": "stdout",
     "output_type": "stream",
     "text": [
      "this string has  some weird values02\n"
     ]
    }
   ],
   "source": [
    "#another method\n",
    "def rem_non_alpha(char):\n",
    "    chars='%^&!'\n",
    "    result=character.translate(str.maketrans('','',chars))\n",
    "    print(result)\n",
    "character=\"this string has %^&! some weird values02\"\n",
    "rem_non_alpha(character)"
   ]
  },
  {
   "cell_type": "markdown",
   "metadata": {},
   "source": [
    "9. Create a function to convert Celsius to Farenheight and print the result. \n",
    "\n",
    "Bonus(Optional): Include the degree symbol in the output."
   ]
  },
  {
   "cell_type": "code",
   "execution_count": 34,
   "metadata": {},
   "outputs": [
    {
     "name": "stdout",
     "output_type": "stream",
     "text": [
      "Enter temperature in celsius: 50\n",
      "Temperature in Fahrenheit:  122.0 °\n"
     ]
    }
   ],
   "source": [
    "def fahrenheit(x):\n",
    "    fahrenheit = (x* 9/5) + 32 #formula to convert Celsius to Farenheight\n",
    "    print(\"Temperature in Fahrenheit: \", fahrenheit,u\"\\N{DEGREE SIGN}\") #Printing with degree symbol\n",
    "n = float(input(\"Enter temperature in celsius: \")) \n",
    "fahrenheit(n)"
   ]
  },
  {
   "cell_type": "markdown",
   "metadata": {},
   "source": [
    "10. Create a function that prints the fibonacci sequence from 0 to 25. "
   ]
  },
  {
   "cell_type": "code",
   "execution_count": 23,
   "metadata": {},
   "outputs": [
    {
     "name": "stdout",
     "output_type": "stream",
     "text": [
      "0\n",
      "1\n",
      "1\n",
      "2\n",
      "3\n",
      "5\n",
      "8\n",
      "13\n",
      "21\n"
     ]
    }
   ],
   "source": [
    "#The Fibonacci sequence is a set of numbers that starts with a one or a zero, \n",
    "#followed by a one, and each number is equal to the sum of the preceding two numbers.\n",
    "def fibonocci(n):\n",
    "    x=0\n",
    "    y=1\n",
    "    print(x)\n",
    "    print(y)\n",
    "    for n in range(0,10):\n",
    "        z=x+y \n",
    "        x=y\n",
    "        y=z\n",
    "        if z>=25:\n",
    "            break\n",
    "        print(z)\n",
    "fibonocci(n)"
   ]
  },
  {
   "cell_type": "markdown",
   "metadata": {},
   "source": [
    "11. Create two functions. One function that accepts args `a` and `b` and returns `a + b`. \n",
    "\n",
    "Create a second function that accepts the first function as the 3rd argument as well as a and b.\n"
   ]
  },
  {
   "cell_type": "code",
   "execution_count": 6,
   "metadata": {},
   "outputs": [],
   "source": [
    "# you do the first function\n",
    "# second function\n",
    "# Here's some starter code to avoid confusion.\n",
    "# Functions can be passed around like any other object. \n",
    "def second_function(a,b,some_function):\n",
    "    pass"
   ]
  },
  {
   "cell_type": "code",
   "execution_count": 29,
   "metadata": {},
   "outputs": [
    {
     "name": "stdout",
     "output_type": "stream",
     "text": [
      "Enter a: 4\n",
      "Enter b: 2\n",
      "6\n",
      "2\n"
     ]
    }
   ],
   "source": [
    "def some_function(a,b):\n",
    "    return a+b\n",
    "def second_function(a,b,some_function):\n",
    "    return a-b\n",
    "a=int(input(\"Enter a: \"))\n",
    "b=int(input(\"Enter b: \"))\n",
    "print(some_function(a,b))\n",
    "print(second_function(a,b,some_function))"
   ]
  },
  {
   "cell_type": "markdown",
   "metadata": {},
   "source": [
    "12. Create a function that prints prime number from 0 to 100. "
   ]
  },
  {
   "cell_type": "code",
   "execution_count": 7,
   "metadata": {},
   "outputs": [
    {
     "name": "stdout",
     "output_type": "stream",
     "text": [
      "0\n",
      "1\n",
      "2\n",
      "3\n",
      "5\n",
      "7\n",
      "11\n",
      "13\n",
      "17\n",
      "19\n",
      "23\n",
      "29\n",
      "31\n",
      "37\n",
      "41\n",
      "43\n",
      "47\n",
      "53\n",
      "59\n",
      "61\n",
      "67\n",
      "71\n",
      "73\n",
      "79\n",
      "83\n",
      "89\n",
      "97\n"
     ]
    }
   ],
   "source": [
    "def primenum(x):\n",
    "    j=0\n",
    "    for i in range(2,x):\n",
    "        if x%i==0:\n",
    "            j=1\n",
    "            break\n",
    "        else:\n",
    "            j=0\n",
    "    return j\n",
    "            \n",
    "for n in range(0,100):\n",
    "    if primenum(n)==0:\n",
    "        print(n)"
   ]
  },
  {
   "cell_type": "markdown",
   "metadata": {},
   "source": [
    "13. Now's your chance to show off. Create a function that does something that has not already been done in the homework. Get creative. "
   ]
  },
  {
   "cell_type": "code",
   "execution_count": 4,
   "metadata": {},
   "outputs": [
    {
     "name": "stdout",
     "output_type": "stream",
     "text": [
      "Enter input: 9\n",
      "Factorial of n is:  504\n"
     ]
    }
   ],
   "source": [
    "def factorial(n):\n",
    "    factorial=n*(n-1)*(n-2)*(n-(n-1)) #Factorial formula\n",
    "    print(\"Factorial of n is: \", factorial)\n",
    "x=int(input(\"Enter input: \"))\n",
    "factorial(x)"
   ]
  },
  {
   "cell_type": "markdown",
   "metadata": {},
   "source": [
    "14. Add an attribute called `age` to the `__init__` method of the `Person` class.\n",
    "\n",
    "Create an instance of `Person()` and print the `age`."
   ]
  },
  {
   "cell_type": "code",
   "execution_count": 11,
   "metadata": {},
   "outputs": [
    {
     "name": "stdout",
     "output_type": "stream",
     "text": [
      "33\n"
     ]
    }
   ],
   "source": [
    "class Person():\n",
    "    \n",
    "    def __init__(self, name, occupation, country,age):\n",
    "        self.name = name\n",
    "        self.occupation = occupation\n",
    "        self.country = country\n",
    "        self.age=age #adding attribute 'age'\n",
    "p1=Person('Mangai','unemployed','US','33') #creating an instance of class Person\n",
    "print(p1.age)"
   ]
  },
  {
   "cell_type": "markdown",
   "metadata": {},
   "source": [
    "15. Creat an instance of the class `Candy`. \n",
    "\n",
    "Add an attribute called `cost` on your instance. (Don't modify the class starter code.)\n",
    "\n",
    "Print the instance's `cost` attribute.\n",
    "\n",
    "Bonus(optional): Add a function of your choice to the instance. "
   ]
  },
  {
   "cell_type": "code",
   "execution_count": 46,
   "metadata": {},
   "outputs": [
    {
     "name": "stdout",
     "output_type": "stream",
     "text": [
      "calling from instance\n",
      "6\n"
     ]
    }
   ],
   "source": [
    "class Candy():\n",
    "    \n",
    "    def __init__(self, kind='chocolate', brand= 'Nestle', caramel = False):\n",
    "        self.type = kind\n",
    "        self.brand = brand\n",
    "        self.caramel = caramel\n",
    "\n",
    "def getBrandname(self):\n",
    "        return \"calling from instance\"\n",
    "c1=Candy() #creating an object\n",
    "c1.cost=6\n",
    "#setattr(c1,\"cost\",\"5\")# to add attribute inside instance we use setattr() function\n",
    "c1.getBrandname=getBrandname.__get__(c1) # bonus: adding a function to the instance\n",
    "print(c1.getBrandname())\n",
    "print(c1.cost)"
   ]
  },
  {
   "cell_type": "code",
   "execution_count": null,
   "metadata": {},
   "outputs": [],
   "source": []
  },
  {
   "cell_type": "markdown",
   "metadata": {},
   "source": [
    "16. Add an instance method to our class `Greet` that prints a greeting including `greeting` and the `name`. \n",
    "\n",
    "Example:\n",
    "\n",
    "`jen = Greet()`\n",
    "\n",
    "`jen.greet_method()` returns `\"Hello Jennifer\"`\n"
   ]
  },
  {
   "cell_type": "code",
   "execution_count": 110,
   "metadata": {},
   "outputs": [
    {
     "name": "stdout",
     "output_type": "stream",
     "text": [
      "HI from Jennifer \n"
     ]
    }
   ],
   "source": [
    "class Greet():\n",
    "    \n",
    "    def __init__(self, name='Jennifer', language='english', greeting=\"Hello\"):\n",
    "        \n",
    "        self.language = language\n",
    "        self.greeting = greeting\n",
    "        self.name = name\n",
    "        \n",
    "    # Instance method\n",
    "    def wishes(self):\n",
    "        print(\"HI from Jennifer \") \n",
    "Jenni=Greet() # creating an instance for Greet() class\n",
    "Jenni.wishes() #calling the instance method"
   ]
  },
  {
   "cell_type": "markdown",
   "metadata": {},
   "source": [
    "17. Add a line to the follwing code that will increment `employee_count` by 1 for **all** instances of `Employee`.\n",
    "\n",
    "The code should run each time an new instance of`Employee` is created. \n",
    "\n",
    "Hint: You don't need methods. Just a single expression will work. And it does NOT inlcude the word `self`. "
   ]
  },
  {
   "cell_type": "code",
   "execution_count": 39,
   "metadata": {},
   "outputs": [
    {
     "name": "stdout",
     "output_type": "stream",
     "text": [
      "1\n",
      "2\n"
     ]
    }
   ],
   "source": [
    "class Employee():\n",
    "    \n",
    "    # class variables. Applies to all instances of this class during creation.\n",
    "    yearly_bonus = 1.01 # not used anywhere in this example\n",
    "    \n",
    "    employee_count = 0 # This variable will change for all instances of the class.\n",
    "    \n",
    "       \n",
    "    def __init__(self,name, age, base_pay): # creates an instance of our object with unique attributes\n",
    "        \n",
    "        self.name = name\n",
    "        self.age = age\n",
    "        self.base_pay = base_pay\n",
    "        \n",
    "        \n",
    "        # your code here inside the __init__ method. \n",
    "        Employee.employee_count+=1 # added a single increment line\n",
    "        \n",
    "emp1 = Employee('Matt', 32,40000)\n",
    "print(emp1.employee_count) # should be 1 if the __init__ method is working properly. \n",
    "\n",
    "emp2 = emp1 = Employee('Joe', 22,50000) # should be 2 if the __init__ method is working properly. \n",
    "print(emp2.employee_count)\n",
    "\n"
   ]
  },
  {
   "cell_type": "markdown",
   "metadata": {},
   "source": [
    "18 . Add a `static` method of your choice to the class below. \n",
    "\n",
    "Instaiate an object and call your method. \n",
    "\n",
    "What is a static method anyway? \n"
   ]
  },
  {
   "cell_type": "code",
   "execution_count": 50,
   "metadata": {},
   "outputs": [
    {
     "name": "stdout",
     "output_type": "stream",
     "text": [
      "Meryl Streep: This is my line...\n"
     ]
    },
    {
     "data": {
      "text/plain": [
       "'Mamma mia'"
      ]
     },
     "execution_count": 50,
     "metadata": {},
     "output_type": "execute_result"
    }
   ],
   "source": [
    "class actress():\n",
    "    def __init__(self, name = 'Meryl Streep'):\n",
    "        self.name = name\n",
    "        \n",
    "    def act(self, line):\n",
    "        print(f'{self.name}: {line}')\n",
    "        \n",
    "    # your static method goes here.\n",
    "    @staticmethod \n",
    "    def oscaraward(movie):\n",
    "        return movie\n",
    "meryl = actress() #instantiating an object mery1 for actress class\n",
    "meryl.act('This is my line...')\n",
    "actress.oscaraward('Mamma mia') #so without creating an instance, called the static method"
   ]
  },
  {
   "cell_type": "code",
   "execution_count": null,
   "metadata": {},
   "outputs": [],
   "source": [
    "#A static method is also a method that is bound to the class and not the object of the class.\n",
    "#They do not require a class instance creation. So, they are not dependent on the state of the object.\n",
    "#Static method knows nothing about the class and just deals with the parameters.."
   ]
  },
  {
   "cell_type": "markdown",
   "metadata": {},
   "source": [
    "19. Create a `class` called Car that accepts 3 attributes (make, model and year). \n",
    "\n",
    "In the `__init__` method give your instance those three attributes. \n",
    "\n",
    "Instantiate (create) an object that is your dream car. \n",
    "\n",
    "Print the make of your dream car using the object attributes. \n",
    "\n",
    "Then call the dir() method on your new object. (See your attrs are now included!)"
   ]
  },
  {
   "cell_type": "code",
   "execution_count": 47,
   "metadata": {},
   "outputs": [
    {
     "name": "stdout",
     "output_type": "stream",
     "text": [
      "Volkswagen\n",
      "['__class__', '__delattr__', '__dict__', '__dir__', '__doc__', '__eq__', '__format__', '__ge__', '__getattribute__', '__gt__', '__hash__', '__init__', '__init_subclass__', '__le__', '__lt__', '__module__', '__ne__', '__new__', '__reduce__', '__reduce_ex__', '__repr__', '__setattr__', '__sizeof__', '__str__', '__subclasshook__', '__weakref__', 'make', 'model', 'year']\n"
     ]
    }
   ],
   "source": [
    "class Car(): # created a class name Car\n",
    "    def __init__(self,make,model,year): #initializing instance for Car\n",
    "        self.make=make\n",
    "        self.model=model\n",
    "        self.year=year #these 3 are called instance variables or attributes\n",
    "        \n",
    "dreamcar=Car('Volkswagen','Beetle','2019') # Instatiating an object for Class Car\n",
    "\n",
    "print(dreamcar.make) #printing a specific attribute \n",
    "\n",
    "print(dir(dreamcar)) #using dir()method "
   ]
  },
  {
   "cell_type": "markdown",
   "metadata": {},
   "source": [
    "20. Create a class called `Dice` that accepts a single argument called `number_of_dice`. \n",
    "\n",
    "Create an instance method called `roll`. \n",
    "\n",
    "`roll` should randomly pick a number for each die when called and print the results as a list. \n",
    "\n",
    "Create an instance of `Dice`. Then call `roll()` on your instance.\n",
    "\n",
    "Hint: Inside your class create an empty list called `dice`."
   ]
  },
  {
   "cell_type": "code",
   "execution_count": 12,
   "metadata": {},
   "outputs": [
    {
     "name": "stdout",
     "output_type": "stream",
     "text": [
      "3\n"
     ]
    }
   ],
   "source": [
    "# Helpful starter code\n",
    "from random import randrange\n",
    "\n",
    "print(randrange(1,7)) # randomly generates a number between 1 and 6"
   ]
  },
  {
   "cell_type": "code",
   "execution_count": 27,
   "metadata": {},
   "outputs": [
    {
     "name": "stdout",
     "output_type": "stream",
     "text": [
      "[4, 2, 6, 5]\n"
     ]
    }
   ],
   "source": [
    "from random import randrange\n",
    "\n",
    "class Dice():\n",
    "    \n",
    "    def __init__ (self,number_of_dice):\n",
    "        self.number_of_dice=number_of_dice\n",
    "        self.dice_list=[]   \n",
    "    \n",
    "    def roll(self): #creating an instance method called 'roll'\n",
    "        for i in range(self.number_of_dice):\n",
    "            self.dice_list.append(randrange(1,7))\n",
    "\n",
    "d1=Dice(4) # creating an object d1 for class Dice \n",
    "d1.roll() #calling roll() on instance\n",
    "\n",
    "print(d1.dice_list)\n"
   ]
  },
  {
   "cell_type": "markdown",
   "metadata": {},
   "source": [
    "Bonus(optional):\n",
    "\n",
    "0. Create a class of your choice.\n",
    "1. Give it instance variables and class variables. \n",
    "2. Give it a classmethod. \n",
    "3. Give it a regular method (instance method).\n",
    "4. Give it a static method. \n",
    "\n",
    "Show how each works by printing an example. "
   ]
  },
  {
   "cell_type": "code",
   "execution_count": 115,
   "metadata": {},
   "outputs": [
    {
     "name": "stdout",
     "output_type": "stream",
     "text": [
      "lastname=Rathnakumar\n",
      "firstname=Mangaiyarkarasi\n",
      "Masters_in_Engg\n",
      "Masters_in_Engg\n"
     ]
    }
   ],
   "source": [
    "#bonus    \n",
    "class Mine: #creatin a class of my own\n",
    "    def __init__ (self,height='5.5',weight='127',BMI='21.13'): #instance variables or attributes to the class\n",
    "        self.height=height\n",
    "        self.weight=weight\n",
    "        self.BMI=BMI\n",
    "    def get_lastname(self):# instance method\n",
    "        print('lastname=Rathnakumar')\n",
    "    @classmethod\n",
    "    def get_firstname(cls):\n",
    "        print('firstname=Mangaiyarkarasi')\n",
    "        \n",
    "    @staticmethod\n",
    "    def qualification():\n",
    "        print(\"Masters_in_Engg\")\n",
    "        \n",
    "    \n",
    "Mangai=Mine()  # creating an object \n",
    "Mangai.get_lastname() # caling instance method\n",
    "Mangai.get_firstname() # calling class method\n",
    "Mine.qualification() #calling static method using class name\n",
    "Mangai.qualification()#calling static method using object name\n",
    "\n"
   ]
  },
  {
   "cell_type": "code",
   "execution_count": null,
   "metadata": {},
   "outputs": [],
   "source": []
  }
 ],
 "metadata": {
  "kernelspec": {
   "display_name": "Python 3 (ipykernel)",
   "language": "python",
   "name": "python3"
  },
  "language_info": {
   "codemirror_mode": {
    "name": "ipython",
    "version": 3
   },
   "file_extension": ".py",
   "mimetype": "text/x-python",
   "name": "python",
   "nbconvert_exporter": "python",
   "pygments_lexer": "ipython3",
   "version": "3.7.4"
  }
 },
 "nbformat": 4,
 "nbformat_minor": 4
}
